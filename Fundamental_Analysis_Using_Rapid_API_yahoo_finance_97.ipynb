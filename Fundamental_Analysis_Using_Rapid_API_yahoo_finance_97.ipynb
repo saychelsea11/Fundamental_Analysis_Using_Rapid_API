{
  "nbformat": 4,
  "nbformat_minor": 0,
  "metadata": {
    "colab": {
      "provenance": [],
      "collapsed_sections": []
    },
    "kernelspec": {
      "name": "python3",
      "display_name": "Python 3"
    },
    "language_info": {
      "name": "python"
    }
  },
  "cells": [
    {
      "cell_type": "code",
      "source": [
        "import requests\n",
        "import pandas as pd\n",
        "import numpy as np\n",
        "import matplotlib.pyplot as plt\n",
        "import seaborn as sns\n",
        "import json\n",
        "import pprint\n",
        "from datetime import datetime, timedelta\n",
        "pd.set_option('display.max_rows', 10)\n",
        "pd.set_option('display.max_columns', 10)\n",
        "pd.set_option('display.width', 2000)"
      ],
      "metadata": {
        "id": "ZywgfHK3kQFc"
      },
      "execution_count": null,
      "outputs": []
    },
    {
      "cell_type": "code",
      "execution_count": null,
      "metadata": {
        "colab": {
          "base_uri": "https://localhost:8080/"
        },
        "id": "oL_MT2KckPDA",
        "outputId": "418987a9-c89e-451f-8f80-37ac1cd0d4d9"
      },
      "outputs": [
        {
          "output_type": "stream",
          "name": "stdout",
          "text": [
            "200\n",
            "{'data': {'52WeekChange': None,\n",
            "          'SandP52WeekChange': None,\n",
            "          'address1': 'One Apple Park Way',\n",
            "          'algorithm': None,\n",
            "          'annualHoldingsTurnover': None,\n",
            "          'annualReportExpenseRatio': None,\n",
            "          'ask': 151.12,\n",
            "          'askSize': 1200,\n",
            "          'averageDailyVolume10Day': 81965800,\n",
            "          'averageVolume': 82245757,\n",
            "          'averageVolume10days': 81965800,\n",
            "          'beta': 1.19455,\n",
            "          'beta3Year': None,\n",
            "          'bid': 150.71,\n",
            "          'bidSize': 1100,\n",
            "          'bookValue': 4.146,\n",
            "          'category': None,\n",
            "          'circulatingSupply': None,\n",
            "          'city': 'Cupertino',\n",
            "          'companyOfficers': [],\n",
            "          'country': 'United States',\n",
            "          'currency': 'USD',\n",
            "          'currentPrice': 149.8,\n",
            "          'currentRatio': 0.865,\n",
            "          'dateShortInterest': 1657843200,\n",
            "          'dayHigh': 151.32,\n",
            "          'dayLow': 149.63,\n",
            "          'debtToEquity': 205.984,\n",
            "          'dividendRate': 0.92,\n",
            "          'dividendYield': 0.0057,\n",
            "          'earningsGrowth': -0.077,\n",
            "          'earningsQuarterlyGrowth': -0.106,\n",
            "          'ebitda': 129556996096,\n",
            "          'ebitdaMargins': 0.3343,\n",
            "          'enterpriseToEbitda': 20.71,\n",
            "          'enterpriseToRevenue': 6.923,\n",
            "          'enterpriseValue': 2683118026752,\n",
            "          'exDividendDate': 1659657600,\n",
            "          'exchange': 'NMS',\n",
            "          'exchangeTimezoneName': 'America/New_York',\n",
            "          'exchangeTimezoneShortName': 'EDT',\n",
            "          'expireDate': None,\n",
            "          'fiftyDayAverage': 153.237,\n",
            "          'fiftyTwoWeekHigh': 182.94,\n",
            "          'fiftyTwoWeekLow': 129.04,\n",
            "          'financialCurrency': 'USD',\n",
            "          'fiveYearAverageReturn': None,\n",
            "          'fiveYearAvgDividendYield': 1.05,\n",
            "          'floatShares': 16054038418,\n",
            "          'forwardEps': 5.31,\n",
            "          'forwardPE': 28.210924,\n",
            "          'freeCashflow': 83344621568,\n",
            "          'fromCurrency': None,\n",
            "          'fullTimeEmployees': 154000,\n",
            "          'fundFamily': None,\n",
            "          'fundInceptionDate': None,\n",
            "          'gmtOffSetMilliseconds': '-14400000',\n",
            "          'grossMargins': 0.43313998,\n",
            "          'grossProfits': 152836000000,\n",
            "          'headSymbol': None,\n",
            "          'heldPercentInsiders': 0.00071999995,\n",
            "          'heldPercentInstitutions': 0.60082,\n",
            "          'industry': 'Consumer Electronics',\n",
            "          'isEsgPopulated': True,\n",
            "          'lastCapGain': None,\n",
            "          'lastDividendValue': None,\n",
            "          'lastFiscalYearEnd': 1632528000,\n",
            "          'lastMarket': None,\n",
            "          'lastSplitDate': 1598832000,\n",
            "          'lastSplitFactor': '4:1',\n",
            "          'legalType': None,\n",
            "          'logo_url': 'https://logo.clearbit.com/apple.com',\n",
            "          'longBusinessSummary': 'Apple Inc. designs, manufactures, and '\n",
            "                                 'markets smartphones, personal computers, '\n",
            "                                 'tablets, wearables, and accessories '\n",
            "                                 'worldwide. It also sells various related '\n",
            "                                 'services. In addition, the company offers '\n",
            "                                 'iPhone, a line of smartphones; Mac, a line '\n",
            "                                 'of personal computers; iPad, a line of '\n",
            "                                 'multi-purpose tablets; AirPods Max, an '\n",
            "                                 'over-ear wireless headphone; and wearables, '\n",
            "                                 'home, and accessories comprising AirPods, '\n",
            "                                 'Apple TV, Apple Watch, Beats products, '\n",
            "                                 'HomePod, and iPod touch. Further, it '\n",
            "                                 'provides AppleCare support services; cloud '\n",
            "                                 'services store services; and operates '\n",
            "                                 'various platforms, including the App Store '\n",
            "                                 'that allow customers to discover and '\n",
            "                                 'download applications and digital content, '\n",
            "                                 'such as books, music, video, games, and '\n",
            "                                 'podcasts. Additionally, the company offers '\n",
            "                                 'various services, such as Apple Arcade, a '\n",
            "                                 'game subscription service; Apple Music, '\n",
            "                                 'which offers users a curated listening '\n",
            "                                 'experience with on-demand radio stations; '\n",
            "                                 'Apple News+, a subscription news and '\n",
            "                                 'magazine service; Apple TV+, which offers '\n",
            "                                 'exclusive original content; Apple Card, a '\n",
            "                                 'co-branded credit card; and Apple Pay, a '\n",
            "                                 'cashless payment service, as well as '\n",
            "                                 'licenses its intellectual property. The '\n",
            "                                 'company serves consumers, and small and '\n",
            "                                 'mid-sized businesses; and the education, '\n",
            "                                 'enterprise, and government markets. It '\n",
            "                                 'distributes third-party applications for its '\n",
            "                                 'products through the App Store. The company '\n",
            "                                 'also sells its products through its retail '\n",
            "                                 'and online stores, and direct sales force; '\n",
            "                                 'and third-party cellular network carriers, '\n",
            "                                 'wholesalers, retailers, and resellers. Apple '\n",
            "                                 'Inc. was incorporated in 1977 and is '\n",
            "                                 'headquartered in Cupertino, California.',\n",
            "          'longName': 'Apple Inc.',\n",
            "          'market': 'us_market',\n",
            "          'marketCap': 2457678643200,\n",
            "          'maxAge': 1,\n",
            "          'maxSupply': None,\n",
            "          'messageBoardId': 'finmb_24937',\n",
            "          'morningStarOverallRating': None,\n",
            "          'morningStarRiskRating': None,\n",
            "          'mostRecentQuarter': 1656115200,\n",
            "          'navPrice': None,\n",
            "          'netIncomeToCommon': 99632996352,\n",
            "          'nextFiscalYearEnd': 1695600000,\n",
            "          'numberOfAnalystOpinions': 44,\n",
            "          'open': 150.09,\n",
            "          'openInterest': None,\n",
            "          'operatingCashflow': 118224003072,\n",
            "          'operatingMargins': 0.30533,\n",
            "          'payoutRatio': 0.1471,\n",
            "          'pegRatio': 2.59,\n",
            "          'phone': '408 996 1010',\n",
            "          'preMarketPrice': 150.84,\n",
            "          'previousClose': 152.34,\n",
            "          'priceHint': 2,\n",
            "          'priceToBook': 36.131214,\n",
            "          'priceToSalesTrailing12Months': 6.341709,\n",
            "          'profitMargins': 0.25709,\n",
            "          'quickRatio': 0.697,\n",
            "          'quoteType': 'EQUITY',\n",
            "          'recommendationKey': 'buy',\n",
            "          'recommendationMean': 1.9,\n",
            "          'regularMarketDayHigh': 151.32,\n",
            "          'regularMarketDayLow': 149.63,\n",
            "          'regularMarketOpen': 150.09,\n",
            "          'regularMarketPreviousClose': 152.34,\n",
            "          'regularMarketPrice': 149.8,\n",
            "          'regularMarketVolume': 9922070,\n",
            "          'returnOnAssets': 0.22204,\n",
            "          'returnOnEquity': 1.62816,\n",
            "          'revenueGrowth': 0.019,\n",
            "          'revenuePerShare': 23.732,\n",
            "          'revenueQuarterlyGrowth': None,\n",
            "          'sector': 'Technology',\n",
            "          'sharesOutstanding': 16406400000,\n",
            "          'sharesPercentSharesOut': 0.0064999997,\n",
            "          'sharesShort': 104993162,\n",
            "          'sharesShortPreviousMonthDate': 1655251200,\n",
            "          'sharesShortPriorMonth': 120066688,\n",
            "          'shortName': 'Apple Inc.',\n",
            "          'shortPercentOfFloat': 0.0064999997,\n",
            "          'shortRatio': 1.32,\n",
            "          'startDate': None,\n",
            "          'state': 'CA',\n",
            "          'strikePrice': None,\n",
            "          'symbol': 'AAPL',\n",
            "          'targetHighPrice': 214,\n",
            "          'targetLowPrice': 130,\n",
            "          'targetMeanPrice': 181.87,\n",
            "          'targetMedianPrice': 185,\n",
            "          'threeYearAverageReturn': None,\n",
            "          'totalAssets': None,\n",
            "          'totalCash': 48230998016,\n",
            "          'totalCashPerShare': 3.001,\n",
            "          'totalDebt': 119691001856,\n",
            "          'totalRevenue': 387541991424,\n",
            "          'tradeable': False,\n",
            "          'trailingAnnualDividendRate': 0.82,\n",
            "          'trailingAnnualDividendYield': 0.0053826966,\n",
            "          'trailingEps': 4.449,\n",
            "          'trailingPE': 33.67049,\n",
            "          'twoHundredDayAverage': 157.10725,\n",
            "          'underlyingExchangeSymbol': None,\n",
            "          'underlyingSymbol': None,\n",
            "          'uuid': '8b10e4ae-9eeb-3684-921a-9ab27e4d87aa',\n",
            "          'volume': 9922070,\n",
            "          'volume24Hr': None,\n",
            "          'volumeAllCurrencies': None,\n",
            "          'website': 'https://www.apple.com',\n",
            "          'yield': None,\n",
            "          'ytdReturn': None,\n",
            "          'zip': '95014'},\n",
            " 'message': 'Success',\n",
            " 'status': 200}\n"
          ]
        }
      ],
      "source": [
        "import requests\n",
        "\n",
        "url = \"https://yahoo-finance97.p.rapidapi.com/stock-info\"\n",
        "\n",
        "payload = \"symbol=AAPL\"\n",
        "headers = {\n",
        "\t\"content-type\": \"application/x-www-form-urlencoded\",\n",
        "\t\"X-RapidAPI-Key\": \"YOUR API KEY\",\n",
        "\t\"X-RapidAPI-Host\": \"yahoo-finance97.p.rapidapi.com\"\n",
        "}\n",
        "\n",
        "response = requests.request(\"POST\", url, data=payload, headers=headers)\n",
        "data = json.loads(response.text)\n",
        "\n",
        "print(response.status_code)\n",
        "\n",
        "pprint.pprint (data)"
      ]
    },
    {
      "cell_type": "code",
      "source": [
        "def get_stock_info():\n",
        "  url = \"https://yahoo-finance97.p.rapidapi.com/stock-info\"\n",
        "\n",
        "  payload = \"symbol=AAPL\"\n",
        "  headers = {\n",
        "    \"content-type\": \"application/x-www-form-urlencoded\",\n",
        "    \"X-RapidAPI-Key\": \"YOUR API KEY\",\n",
        "    \"X-RapidAPI-Host\": \"yahoo-finance97.p.rapidapi.com\"\n",
        "  }\n",
        "\n",
        "  response = requests.request(\"POST\", url, data=payload, headers=headers)\n",
        "  data = json.loads(response.text)\n",
        "\n",
        "  return (data, response.status_code)\n",
        "\n",
        "def get_earnings():\n",
        "  url = \"https://yahoo-finance97.p.rapidapi.com/earnings\"\n",
        "\n",
        "  payload = \"symbol=AAPL\"\n",
        "  headers = {\n",
        "    \"content-type\": \"application/x-www-form-urlencoded\",\n",
        "    \"X-RapidAPI-Key\": \"YOUR API KEY\",\n",
        "    \"X-RapidAPI-Host\": \"yahoo-finance97.p.rapidapi.com\"\n",
        "  }\n",
        "\n",
        "  response = requests.request(\"POST\", url, data=payload, headers=headers)\n",
        "  data = json.loads(response.text)\n",
        "\n",
        "  return (data, response.status_code)\n",
        "\n",
        "def get_financials():\n",
        "  url = \"https://yahoo-finance97.p.rapidapi.com/financials\"\n",
        "\n",
        "  payload = \"symbol=AAPL\"\n",
        "  headers = {\n",
        "    \"content-type\": \"application/x-www-form-urlencoded\",\n",
        "    \"X-RapidAPI-Key\": \"YOUR API KEY\",\n",
        "    \"X-RapidAPI-Host\": \"yahoo-finance97.p.rapidapi.com\"\n",
        "  }\n",
        "\n",
        "  response = requests.request(\"POST\", url, data=payload, headers=headers)\n",
        "  data = json.loads(response.text)\n",
        "\n",
        "  return (data, response.status_code)\n",
        "\n",
        "def get_calendar():\n",
        "  url = \"https://yahoo-finance97.p.rapidapi.com/calendar\"\n",
        "\n",
        "  payload = \"symbol=AAPL\"\n",
        "  headers = {\n",
        "    \"content-type\": \"application/x-www-form-urlencoded\",\n",
        "    \"X-RapidAPI-Key\": \"YOUR API KEY\",\n",
        "    \"X-RapidAPI-Host\": \"yahoo-finance97.p.rapidapi.com\"\n",
        "  }\n",
        "\n",
        "  response = requests.request(\"POST\", url, data=payload, headers=headers)\n",
        "  data = json.loads(response.text)\n",
        "\n",
        "  return (data, response.status_code)\n",
        "\n",
        "def get_quarterly_earnings():\n",
        "  url = \"https://yahoo-finance97.p.rapidapi.com/quarterly-earnings\"\n",
        "\n",
        "  payload = \"symbol=AAPL\"\n",
        "  headers = {\n",
        "    \"content-type\": \"application/x-www-form-urlencoded\",\n",
        "    \"X-RapidAPI-Key\": \"YOUR API KEY\",\n",
        "    \"X-RapidAPI-Host\": \"yahoo-finance97.p.rapidapi.com\"\n",
        "  }\n",
        "\n",
        "  response = requests.request(\"POST\", url, data=payload, headers=headers)\n",
        "  data = json.loads(response.text)\n",
        "\n",
        "  return (data, response.status_code)"
      ],
      "metadata": {
        "id": "ziSW2Sugku62"
      },
      "execution_count": null,
      "outputs": []
    },
    {
      "cell_type": "markdown",
      "source": [
        "# 2. Parsing extracted JSON data"
      ],
      "metadata": {
        "id": "yMp0dVMHWOii"
      }
    },
    {
      "cell_type": "code",
      "source": [
        "%%time\n",
        "stock_info_data,stock_info_code = get_stock_info()"
      ],
      "metadata": {
        "colab": {
          "base_uri": "https://localhost:8080/"
        },
        "id": "EsDX7Ao7sku2",
        "outputId": "1d83bf04-6974-48ea-947e-959a1e48e0c2"
      },
      "execution_count": null,
      "outputs": [
        {
          "output_type": "stream",
          "name": "stdout",
          "text": [
            "CPU times: user 14.3 ms, sys: 703 µs, total: 15 ms\n",
            "Wall time: 68 ms\n"
          ]
        }
      ]
    },
    {
      "cell_type": "code",
      "source": [
        "%%time\n",
        "earnings_data,earnings_code = get_earnings()"
      ],
      "metadata": {
        "colab": {
          "base_uri": "https://localhost:8080/"
        },
        "id": "BnRkGShtxzkG",
        "outputId": "41ae7f08-dac2-445b-d671-655e4a58891c"
      },
      "execution_count": null,
      "outputs": [
        {
          "output_type": "stream",
          "name": "stdout",
          "text": [
            "CPU times: user 32.4 ms, sys: 3.13 ms, total: 35.5 ms\n",
            "Wall time: 3.13 s\n"
          ]
        }
      ]
    },
    {
      "cell_type": "code",
      "source": [
        "%%time\n",
        "financials_data,financials_code = get_financials()"
      ],
      "metadata": {
        "id": "140Wu40601aO",
        "colab": {
          "base_uri": "https://localhost:8080/"
        },
        "outputId": "042a0045-2f84-4ea4-f98c-bf6895fb06a2"
      },
      "execution_count": null,
      "outputs": [
        {
          "output_type": "stream",
          "name": "stdout",
          "text": [
            "CPU times: user 32.6 ms, sys: 4.11 ms, total: 36.7 ms\n",
            "Wall time: 4.27 s\n"
          ]
        }
      ]
    },
    {
      "cell_type": "code",
      "source": [
        "%%time\n",
        "quarterly_earnings_data, quarterly_earnings_code = get_quarterly_earnings()"
      ],
      "metadata": {
        "id": "ShP41WWXa98Y",
        "colab": {
          "base_uri": "https://localhost:8080/"
        },
        "outputId": "d9d73bcc-0037-4929-9a34-30d67332c018"
      },
      "execution_count": null,
      "outputs": [
        {
          "output_type": "stream",
          "name": "stdout",
          "text": [
            "CPU times: user 30.6 ms, sys: 4.25 ms, total: 34.9 ms\n",
            "Wall time: 3.41 s\n"
          ]
        }
      ]
    },
    {
      "cell_type": "markdown",
      "source": [
        "### 2.1 Stock price"
      ],
      "metadata": {
        "id": "YVZQyKGxW_XF"
      }
    },
    {
      "cell_type": "code",
      "source": [
        "print (\"Stock price:\",stock_info_data['data']['currentPrice'])"
      ],
      "metadata": {
        "colab": {
          "base_uri": "https://localhost:8080/"
        },
        "id": "ft6ROYCSRHMS",
        "outputId": "5087a26c-4178-4332-aad6-21b8b4402693"
      },
      "execution_count": null,
      "outputs": [
        {
          "output_type": "stream",
          "name": "stdout",
          "text": [
            "Stock price: 150.11\n"
          ]
        }
      ]
    },
    {
      "cell_type": "markdown",
      "source": [
        "### 2.2 Market cap"
      ],
      "metadata": {
        "id": "DC-yJ6puYdeg"
      }
    },
    {
      "cell_type": "code",
      "source": [
        "print (\"Market cap (billions $):\",str(np.round(stock_info_data['data']['marketCap']/1000000000,2)) + 'B')"
      ],
      "metadata": {
        "colab": {
          "base_uri": "https://localhost:8080/"
        },
        "id": "xFVfZJigdj3A",
        "outputId": "7507194a-077d-45e5-f058-e7c915d4f45b"
      },
      "execution_count": null,
      "outputs": [
        {
          "output_type": "stream",
          "name": "stdout",
          "text": [
            "Market cap (billions $): 2462.68B\n"
          ]
        }
      ]
    },
    {
      "cell_type": "markdown",
      "source": [
        "### 2.3 P/E ratio"
      ],
      "metadata": {
        "id": "gsUDz3sNYeMc"
      }
    },
    {
      "cell_type": "code",
      "source": [
        "print (\"Trailing P/E ratio:\",stock_info_data['data']['trailingPE'])\n",
        "print (\"Forward P/E ratio:\",stock_info_data['data']['forwardPE'])"
      ],
      "metadata": {
        "colab": {
          "base_uri": "https://localhost:8080/"
        },
        "id": "WD5puJ0obW9f",
        "outputId": "419841f7-5ffd-4061-ee4b-21cc72577992"
      },
      "execution_count": null,
      "outputs": [
        {
          "output_type": "stream",
          "name": "stdout",
          "text": [
            "Trailing P/E ratio: 33.739044\n",
            "Forward P/E ratio: 28.26836\n"
          ]
        }
      ]
    },
    {
      "cell_type": "markdown",
      "source": [
        "### 2.4 Revenue\n",
        "\n"
      ],
      "metadata": {
        "id": "MLN1Jt53YeT4"
      }
    },
    {
      "cell_type": "code",
      "source": [
        "pprint.pprint(earnings_data)"
      ],
      "metadata": {
        "colab": {
          "base_uri": "https://localhost:8080/"
        },
        "id": "p3KzGFZxyTKL",
        "outputId": "c971b6f2-b8f1-446e-a4a0-f1567b1acfde"
      },
      "execution_count": null,
      "outputs": [
        {
          "output_type": "stream",
          "name": "stdout",
          "text": [
            "{'data': [{'Earnings': 59531000000, 'Revenue': 265595000000, 'Year': 2018},\n",
            "          {'Earnings': 55256000000, 'Revenue': 260174000000, 'Year': 2019},\n",
            "          {'Earnings': 57411000000, 'Revenue': 274515000000, 'Year': 2020},\n",
            "          {'Earnings': 94680000000, 'Revenue': 365817000000, 'Year': 2021}],\n",
            " 'message': 'Success',\n",
            " 'status': 200}\n"
          ]
        }
      ]
    },
    {
      "cell_type": "code",
      "source": [
        "revenue = []\n",
        "rev_growth = []\n",
        "year = []\n",
        "count = 0\n",
        "\n",
        "for yearly_rev in earnings_data['data']:\n",
        "  revenue.append(yearly_rev['Revenue'])\n",
        "  year.append(yearly_rev['Year'])\n",
        "  if count == 0:\n",
        "    pass\n",
        "  else: \n",
        "    rev_growth.append(((revenue[-1] - revenue[-2])/revenue[-2])*100)\n",
        "  count = count + 1\n",
        "\n",
        "year = year[1:]\n",
        "\n",
        "plt.figure()\n",
        "plt.bar(year,rev_growth)\n",
        "\n",
        "plt.figure()\n",
        "plt.plot(revenue,marker='o')"
      ],
      "metadata": {
        "colab": {
          "base_uri": "https://localhost:8080/",
          "height": 546
        },
        "id": "t-TjohGSo2Xe",
        "outputId": "125dce1b-a77b-4bdf-8c45-dcf647102e64"
      },
      "execution_count": null,
      "outputs": [
        {
          "output_type": "execute_result",
          "data": {
            "text/plain": [
              "[<matplotlib.lines.Line2D at 0x7f586703bd90>]"
            ]
          },
          "metadata": {},
          "execution_count": 17
        },
        {
          "output_type": "display_data",
          "data": {
            "text/plain": [
              "<Figure size 432x288 with 1 Axes>"
            ],
            "image/png": "[encoded data removed]"
          },
          "metadata": {
            "needs_background": "light"
          }
        },
        {
          "output_type": "display_data",
          "data": {
            "text/plain": [
              "<Figure size 432x288 with 1 Axes>"
            ],
            "image/png": "[encoded data removed]"
          },
          "metadata": {
            "needs_background": "light"
          }
        }
      ]
    },
    {
      "cell_type": "markdown",
      "source": [
        "### Operating Margin (%)"
      ],
      "metadata": {
        "id": "V50HCX_MgYHa"
      }
    },
    {
      "cell_type": "code",
      "source": [
        "print (\"Operating margin (%):\",np.round(stock_info_data['data']['operatingMargins']*100,2))"
      ],
      "metadata": {
        "colab": {
          "base_uri": "https://localhost:8080/"
        },
        "id": "7ndQFvu2gYOs",
        "outputId": "705b0491-edce-45ce-f6dd-73c01f3dbd16"
      },
      "execution_count": null,
      "outputs": [
        {
          "output_type": "stream",
          "name": "stdout",
          "text": [
            "Operating margin (%): 30.53\n"
          ]
        }
      ]
    },
    {
      "cell_type": "markdown",
      "source": [
        "### 2.5 Profit margin"
      ],
      "metadata": {
        "id": "EB0hHLVlYeaV"
      }
    },
    {
      "cell_type": "code",
      "source": [
        "print (\"Profit margin (%):\",np.round(stock_info_data['data']['profitMargins']*100,2))"
      ],
      "metadata": {
        "colab": {
          "base_uri": "https://localhost:8080/"
        },
        "id": "13n0zwZ_bxGf",
        "outputId": "bb685d8e-5b11-413a-ce74-bb38b5627eb0"
      },
      "execution_count": null,
      "outputs": [
        {
          "output_type": "stream",
          "name": "stdout",
          "text": [
            "Profit margin (%): 25.71\n"
          ]
        }
      ]
    },
    {
      "cell_type": "markdown",
      "source": [
        "### 2.6 Cash on hand"
      ],
      "metadata": {
        "id": "by8lbl9YYegi"
      }
    },
    {
      "cell_type": "code",
      "source": [
        "print (\"Total cash (billions $):\",int(stock_info_data['data']['totalCash']/1000000000))"
      ],
      "metadata": {
        "colab": {
          "base_uri": "https://localhost:8080/"
        },
        "id": "P9VhKcmofeog",
        "outputId": "c1b6a7ca-9830-4111-90a6-0b6b2784896c"
      },
      "execution_count": null,
      "outputs": [
        {
          "output_type": "stream",
          "name": "stdout",
          "text": [
            "Total cash (billions $): 48\n"
          ]
        }
      ]
    },
    {
      "cell_type": "markdown",
      "source": [
        "### 2.7 Debt"
      ],
      "metadata": {
        "id": "hyJQJlRSYemJ"
      }
    },
    {
      "cell_type": "code",
      "source": [
        "print (\"Total debt (billions $):\",int(stock_info_data['data']['totalDebt']/1000000000))"
      ],
      "metadata": {
        "colab": {
          "base_uri": "https://localhost:8080/"
        },
        "id": "DOsPW6yZf_DN",
        "outputId": "35711f15-fcda-4fc0-e8d3-d40f3d875cd6"
      },
      "execution_count": null,
      "outputs": [
        {
          "output_type": "stream",
          "name": "stdout",
          "text": [
            "Total debt (billions $): 119\n"
          ]
        }
      ]
    },
    {
      "cell_type": "markdown",
      "source": [
        "### 2.8 Cash flow"
      ],
      "metadata": {
        "id": "CFtDIZQtYerE"
      }
    },
    {
      "cell_type": "code",
      "source": [
        "print (\"Operating cash flow (billions $):\",int(stock_info_data['data']['operatingCashflow']/1000000000))\n",
        "print (\"Free cash flow (billions $):\",int(stock_info_data['data']['freeCashflow']/1000000000))"
      ],
      "metadata": {
        "colab": {
          "base_uri": "https://localhost:8080/"
        },
        "id": "Zw2CD71fgelC",
        "outputId": "d823a2a4-9207-4a33-9e65-4ae4927e45a0"
      },
      "execution_count": null,
      "outputs": [
        {
          "output_type": "stream",
          "name": "stdout",
          "text": [
            "Operating cash flow (billions $): 118\n",
            "Free cash flow (billions $): 83\n"
          ]
        }
      ]
    },
    {
      "cell_type": "markdown",
      "source": [
        "### 2.9 EBITDA"
      ],
      "metadata": {
        "id": "vvKVHphIYevY"
      }
    },
    {
      "cell_type": "code",
      "source": [
        "print (\"EBITDA:\",stock_info_data['data']['ebitda'])"
      ],
      "metadata": {
        "colab": {
          "base_uri": "https://localhost:8080/"
        },
        "id": "kVro21VuikTq",
        "outputId": "dd29735f-614c-4405-e0a5-45d0b5db7b41"
      },
      "execution_count": null,
      "outputs": [
        {
          "output_type": "stream",
          "name": "stdout",
          "text": [
            "EBITDA: 129556996096\n"
          ]
        }
      ]
    },
    {
      "cell_type": "markdown",
      "source": [
        "### 2.10 Current quarter"
      ],
      "metadata": {
        "id": "GWzApJ4Qn0Ij"
      }
    },
    {
      "cell_type": "code",
      "source": [
        "prev_quarter = quarterly_earnings_data['data'][-1]['Quarter']\n",
        "print ('Previous quarter:','Q' + prev_quarter[0])\n",
        "\n",
        "curr_quarter = pd.to_datetime(prev_quarter) + timedelta(days = 100)\n",
        "print ('Current quarter:','Q' + str(curr_quarter.quarter))\n",
        "\n",
        "next_quarter = curr_quarter + timedelta(days = 100)\n",
        "print ('Next quarter:','Q' + str(next_quarter.quarter))"
      ],
      "metadata": {
        "colab": {
          "base_uri": "https://localhost:8080/"
        },
        "id": "mfIdU0ixo1V9",
        "outputId": "3d570c0c-4136-4b42-f061-bee7858f3b34"
      },
      "execution_count": null,
      "outputs": [
        {
          "output_type": "stream",
          "name": "stdout",
          "text": [
            "Previous quarter: Q2\n",
            "Current quarter: Q3\n",
            "Next quarter: Q4\n"
          ]
        }
      ]
    },
    {
      "cell_type": "markdown",
      "source": [
        "### 2.12 Previous year profit (earnings) "
      ],
      "metadata": {
        "id": "rS9VrWqKtWIr"
      }
    },
    {
      "cell_type": "code",
      "source": [
        "print ('Current year earnings ($):',earnings_data['data'][-1]['Earnings'])"
      ],
      "metadata": {
        "colab": {
          "base_uri": "https://localhost:8080/"
        },
        "id": "u3Qr1L21n4Et",
        "outputId": "348f1ea4-8c9f-421e-c84f-209139c8e96f"
      },
      "execution_count": null,
      "outputs": [
        {
          "output_type": "stream",
          "name": "stdout",
          "text": [
            "Current year earnings ($): 94680000000\n"
          ]
        }
      ]
    },
    {
      "cell_type": "markdown",
      "source": [
        "### 2.13 Dividend Yield"
      ],
      "metadata": {
        "id": "ORfVJQI5tCii"
      }
    },
    {
      "cell_type": "code",
      "source": [
        "print ('Dividend Yield ($):',stock_info_data['data']['dividendYield']*100)"
      ],
      "metadata": {
        "colab": {
          "base_uri": "https://localhost:8080/"
        },
        "id": "fQ0uBSrltCvy",
        "outputId": "7c6552e5-a83f-4245-d73a-1484d07a24b4"
      },
      "execution_count": null,
      "outputs": [
        {
          "output_type": "stream",
          "name": "stdout",
          "text": [
            "Dividend Yield ($): 0.5700000000000001\n"
          ]
        }
      ]
    },
    {
      "cell_type": "markdown",
      "source": [
        "### 2.14 Price to Book Ratio (P/B)\n",
        "\n"
      ],
      "metadata": {
        "id": "mzj5sdMmTkNE"
      }
    },
    {
      "cell_type": "code",
      "source": [
        "print (\"Price to Book Ratio:\",np.round(stock_info_data['data']['priceToBook']))"
      ],
      "metadata": {
        "colab": {
          "base_uri": "https://localhost:8080/"
        },
        "id": "UAT_pfn-TkVH",
        "outputId": "b72b99d4-8bc5-45a6-bf9d-5c7c02c6d4e9"
      },
      "execution_count": null,
      "outputs": [
        {
          "output_type": "stream",
          "name": "stdout",
          "text": [
            "Price to Book Ratio: 36.0\n"
          ]
        }
      ]
    },
    {
      "cell_type": "markdown",
      "source": [
        "### 2.15 P/E to Growth Ratio (PEG)"
      ],
      "metadata": {
        "id": "6QTvsvpFTySn"
      }
    },
    {
      "cell_type": "code",
      "source": [
        "print (\"P/E to Growth Ratio:\",np.round(stock_info_data['data']['pegRatio']))"
      ],
      "metadata": {
        "colab": {
          "base_uri": "https://localhost:8080/"
        },
        "id": "-UyYCezfTyX5",
        "outputId": "41535a52-1edd-4698-d746-f814119b81db"
      },
      "execution_count": null,
      "outputs": [
        {
          "output_type": "stream",
          "name": "stdout",
          "text": [
            "P/E to Growth Ratio: 3.0\n"
          ]
        }
      ]
    },
    {
      "cell_type": "markdown",
      "source": [
        "### 2.16 Debt to Equity Ratio (D/E)"
      ],
      "metadata": {
        "id": "8-liG7CiT6tD"
      }
    },
    {
      "cell_type": "code",
      "source": [
        "print (\"Debt To Equity Ratio:\",stock_info_data['data']['debtToEquity'])"
      ],
      "metadata": {
        "colab": {
          "base_uri": "https://localhost:8080/"
        },
        "id": "uWax_1BqT6ze",
        "outputId": "61fff22b-9430-4a26-e16c-c757cef57bbf"
      },
      "execution_count": null,
      "outputs": [
        {
          "output_type": "stream",
          "name": "stdout",
          "text": [
            "Debt To Equity Ratio: 205.984\n"
          ]
        }
      ]
    },
    {
      "cell_type": "markdown",
      "source": [
        "### 2.17 Company name"
      ],
      "metadata": {
        "id": "CWVYY9Ku3yed"
      }
    },
    {
      "cell_type": "code",
      "source": [
        "print (\"Company name:\",stock_info_data['data']['longName'])"
      ],
      "metadata": {
        "colab": {
          "base_uri": "https://localhost:8080/"
        },
        "id": "5i0PJt453yyo",
        "outputId": "08304a2a-475b-4d94-df73-ce67077c7b5a"
      },
      "execution_count": null,
      "outputs": [
        {
          "output_type": "stream",
          "name": "stdout",
          "text": [
            "Company name: Apple Inc.\n"
          ]
        }
      ]
    },
    {
      "cell_type": "markdown",
      "source": [
        "### 2.18 EPS"
      ],
      "metadata": {
        "id": "ZFC57Q9YtC59"
      }
    },
    {
      "cell_type": "code",
      "source": [
        "print (\"Trailing EPS:\",stock_info_data['data']['trailingEps'])\n",
        "print (\"Forward EPS:\",stock_info_data['data']['forwardEps'])"
      ],
      "metadata": {
        "colab": {
          "base_uri": "https://localhost:8080/"
        },
        "id": "97FqmBtptDFX",
        "outputId": "4e9381e4-614e-49fa-dbc3-43c609539816"
      },
      "execution_count": null,
      "outputs": [
        {
          "output_type": "stream",
          "name": "stdout",
          "text": [
            "Trailing EPS: 4.449\n",
            "Forward EPS: 5.31\n"
          ]
        }
      ]
    },
    {
      "cell_type": "markdown",
      "source": [
        "### 2.19 Return on Equity (ROE)"
      ],
      "metadata": {
        "id": "TkshCK3ktDQG"
      }
    },
    {
      "cell_type": "code",
      "source": [
        "print (\"Return on Equity (%):\",np.round(stock_info_data['data']['returnOnEquity']*100,2))"
      ],
      "metadata": {
        "colab": {
          "base_uri": "https://localhost:8080/"
        },
        "id": "wafLHE-YtDal",
        "outputId": "66e2a802-f02a-473a-f2db-d10e5efcfbde"
      },
      "execution_count": null,
      "outputs": [
        {
          "output_type": "stream",
          "name": "stdout",
          "text": [
            "Return on Equity (%): 162.82\n"
          ]
        }
      ]
    },
    {
      "cell_type": "markdown",
      "source": [
        "### 2.20 Return on Assets (ROA)"
      ],
      "metadata": {
        "id": "pO174GggAMM1"
      }
    },
    {
      "cell_type": "code",
      "source": [
        "print (\"Return on Assets (%):\",np.round(stock_info_data['data']['returnOnAssets']*100,2))"
      ],
      "metadata": {
        "colab": {
          "base_uri": "https://localhost:8080/"
        },
        "id": "8rU0WBKRAMT1",
        "outputId": "e5f3a01a-de5d-440e-d13b-859780e9b076"
      },
      "execution_count": null,
      "outputs": [
        {
          "output_type": "stream",
          "name": "stdout",
          "text": [
            "Return on Assets (%): 22.2\n"
          ]
        }
      ]
    },
    {
      "cell_type": "code",
      "source": [],
      "metadata": {
        "id": "vz0vT37TFQD2"
      },
      "execution_count": null,
      "outputs": []
    }
  ]
}